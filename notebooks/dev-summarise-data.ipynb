{
 "cells": [
  {
   "cell_type": "code",
   "execution_count": null,
   "metadata": {},
   "outputs": [],
   "source": [
    "import os\n",
    "os.chdir('..')"
   ]
  },
  {
   "cell_type": "code",
   "execution_count": null,
   "metadata": {},
   "outputs": [],
   "source": [
    "from src.data_prep.load_data import (\n",
    "    get_league_data,\n",
    "    get_team_history,\n",
    "    get_league_history,\n",
    "    get_current_season_information,\n",
    "    get_managers_information_league\n",
    ")\n",
    "from src.data_prep.reshape_data import (\n",
    "    summarise_season_current,\n",
    "    summarise_season_history\n",
    ")\n",
    "from src.data_prep.output_data import (\n",
    "    filter_rehsaped_season_history,\n",
    "    get_season_overview,\n",
    "    get_current_champions,\n",
    "    get_most_wins,\n",
    "    get_best_rank_points,\n",
    "    get_seasons_by_top_three_teams,\n",
    "    get_titles_won_summary,\n",
    "    reformat_season_overview,\n",
    "    reformat_season_current,\n",
    "    reformat_season_history\n",
    ")"
   ]
  },
  {
   "cell_type": "code",
   "execution_count": null,
   "metadata": {},
   "outputs": [],
   "source": [
    "#Variables\n",
    "season_start_year = 2001\n",
    "league_id="
   ]
  },
  {
   "cell_type": "code",
   "execution_count": 13,
   "metadata": {},
   "outputs": [],
   "source": [
    "### Load Data"
   ]
  },
  {
   "cell_type": "code",
   "execution_count": null,
   "metadata": {},
   "outputs": [],
   "source": [
    "league_data, team_data = get_league_data(league_id=league_id)\n",
    "manager_information = get_managers_information_league(team_data=team_data)\n",
    "season_history = get_league_history(team_data=team_data)\n",
    "final_gw_finished, current_season_year, team_ids = get_current_season_information()"
   ]
  },
  {
   "cell_type": "code",
   "execution_count": 14,
   "metadata": {},
   "outputs": [],
   "source": [
    "### Prepare Data"
   ]
  },
  {
   "cell_type": "code",
   "execution_count": null,
   "metadata": {},
   "outputs": [],
   "source": [
    "season_current_df = summarise_season_current(\n",
    "        league_data=league_data,\n",
    "        team_data=team_data,\n",
    "        manager_information=manager_information,\n",
    "        current_season_year=current_season_year,\n",
    "        team_ids=team_ids\n",
    "        )\n",
    "\n",
    "season_history_df = summarise_season_history(\n",
    "        season_history=season_history,\n",
    "        season_current_df=season_current_df,\n",
    "        final_gw_finished=final_gw_finished)\n",
    "\n",
    "season_history_df_filtered = filter_rehsaped_season_history(\n",
    "    season_start_year=season_start_year,\n",
    "    df=season_history_df\n",
    ") \n",
    "season_overview = get_season_overview(\n",
    "    df=season_history_df_filtered,\n",
    "    manager_information=manager_information,\n",
    "    team_ids=team_ids\n",
    ")"
   ]
  },
  {
   "cell_type": "code",
   "execution_count": 15,
   "metadata": {},
   "outputs": [],
   "source": [
    "### Final Output"
   ]
  },
  {
   "cell_type": "code",
   "execution_count": null,
   "metadata": {},
   "outputs": [],
   "source": [
    "current_champions_output = get_current_champions(\n",
    "    df=season_history_df_filtered,\n",
    "    season_overview=season_overview\n",
    ")\n",
    "most_season_won_teams_str_output = get_most_wins(\n",
    "    df=season_overview\n",
    ")\n",
    "best_rank_teams_str = get_best_rank_points(\n",
    "    df=season_history_df_filtered,\n",
    "    column='rank'\n",
    ")\n",
    "best_points_teams_str_output = get_best_rank_points(\n",
    "    df=season_history_df_filtered,\n",
    "    column='total_points'\n",
    ")\n",
    "seasons_top_three_output=get_seasons_by_top_three_teams(\n",
    "    df=season_history_df_filtered\n",
    ")\n",
    "titles_won_summary_output = get_titles_won_summary(\n",
    "    df=season_overview\n",
    ")\n",
    "season_overview_output=reformat_season_overview(\n",
    "    df=season_overview\n",
    "    )\n",
    "season_current_df_output = reformat_season_current(\n",
    "    df=season_current_df\n",
    ")\n",
    "season_history_df_output=reformat_season_history(\n",
    "    df=season_history_df\n",
    ")"
   ]
  }
 ],
 "metadata": {
  "kernelspec": {
   "display_name": ".venv",
   "language": "python",
   "name": "python3"
  },
  "language_info": {
   "codemirror_mode": {
    "name": "ipython",
    "version": 3
   },
   "file_extension": ".py",
   "mimetype": "text/x-python",
   "name": "python",
   "nbconvert_exporter": "python",
   "pygments_lexer": "ipython3",
   "version": "3.11.7"
  }
 },
 "nbformat": 4,
 "nbformat_minor": 2
}
