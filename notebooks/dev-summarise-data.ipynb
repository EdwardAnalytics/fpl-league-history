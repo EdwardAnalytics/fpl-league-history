{
 "cells": [
  {
   "cell_type": "code",
   "execution_count": null,
   "metadata": {},
   "outputs": [],
   "source": [
    "import os\n",
    "os.chdir('..')"
   ]
  },
  {
   "cell_type": "code",
   "execution_count": null,
   "metadata": {},
   "outputs": [],
   "source": [
    "from src.data_prep.load_data import (\n",
    "    get_league_data,\n",
    "    get_team_history,\n",
    "    get_league_history,\n",
    "    get_current_season_information,\n",
    "    get_managers_information_league\n",
    ")\n",
    "from src.data_prep.reshape_data import (\n",
    "    summarise_season_current,\n",
    "    summarise_season_history\n",
    ")\n",
    "from src.data_prep.output_data import (\n",
    "    filter_rehsaped_season_history\n",
    ")"
   ]
  },
  {
   "cell_type": "code",
   "execution_count": null,
   "metadata": {},
   "outputs": [],
   "source": [
    "#Variables\n",
    "season_start_year = 2001\n",
    "league_id="
   ]
  },
  {
   "cell_type": "code",
   "execution_count": null,
   "metadata": {},
   "outputs": [],
   "source": [
    "league_data, team_data = get_league_data(league_id=league_id)\n",
    "manager_information = get_managers_information_league(team_data=team_data)\n",
    "season_history = get_league_history(team_data=team_data)\n",
    "final_gw_finished, current_season_year, team_ids = get_current_season_information()\n",
    "\n",
    "season_current_df = summarise_season_current(\n",
    "        league_data=league_data,\n",
    "        team_data=team_data,\n",
    "        manager_information=manager_information,\n",
    "        current_season_year=current_season_year,\n",
    "        team_ids=team_ids\n",
    "        )\n",
    "\n",
    "season_history_df = summarise_season_history(\n",
    "        season_history=season_history,\n",
    "        season_current_df=season_current_df,\n",
    "        final_gw_finished=final_gw_finished)\n",
    "\n",
    "season_history_df_filtered = filter_rehsaped_season_history(\n",
    "    season_start_year=season_start_year,\n",
    "    df=season_history_df\n",
    ") \n",
    "\n"
   ]
  },
  {
   "cell_type": "code",
   "execution_count": null,
   "metadata": {},
   "outputs": [],
   "source": [
    "# Get max value\n",
    "max_points_season_index = season_history_df_filtered.groupby('team_name')['total_points'].idxmax()\n",
    "\n",
    "# Create a DataFrame with both 'team' and 'ranking' columns for each group\n",
    "max_points_season_df = season_history_df_filtered.loc[max_points_season_index, ['team_name', 'manager_name','season_name']]\n",
    "max_points_season_df.rename(columns={'season_name': 'max_points_season_year'}, inplace=True)\n",
    "\n",
    "# Get max value\n",
    "min_rank_season_index = season_history_df_filtered.groupby('team_name')['rank'].idxmin()\n",
    "\n",
    "# Create a DataFrame with both 'team' and 'ranking' columns for each group\n",
    "min_rank_season_df = season_history_df_filtered.loc[min_rank_season_index, ['team_name','manager_name', 'season_name']]\n",
    "min_rank_season_df.rename(columns={'season_name': 'min_rank_season_year'}, inplace=True)"
   ]
  },
  {
   "cell_type": "code",
   "execution_count": null,
   "metadata": {},
   "outputs": [],
   "source": [
    "def get_seasons_by_positions(df,position,column_name):\n",
    "    \"\"\"\"\n",
    "    \"\"\"\n",
    "    df=df[df['league_position']==position].groupby(['team_name','manager_name'])['season_name'].apply(lambda x: ', '.join(map(str, x))).reset_index(name=column_name)\n",
    "\n",
    "    return df\n"
   ]
  },
  {
   "cell_type": "code",
   "execution_count": null,
   "metadata": {},
   "outputs": [],
   "source": [
    "# Group by 'team' and aggregate values of 'score' column into a string\n",
    "seasons_played = season_history_df_filtered.groupby(['team_name','manager_name'])['season_name'].apply(lambda x: ', '.join(map(str, x))).reset_index(name='seasons_played_years')\n",
    "\n",
    "seasons_first = get_seasons_by_positions(\n",
    "    df=season_history_df_filtered,\n",
    "    position=1,\n",
    "    column_name='seasons_won_years'\n",
    "    )\n",
    "\n",
    "seasons_second = get_seasons_by_positions(\n",
    "    df=season_history_df_filtered,\n",
    "    position=2,\n",
    "    column_name='seasons_runner_up_years'\n",
    "    )\n",
    "\n",
    "seasons_third = get_seasons_by_positions(\n",
    "    df=season_history_df_filtered,\n",
    "    position=3,\n",
    "    column_name='seasons_third_years'\n",
    "    )"
   ]
  },
  {
   "cell_type": "code",
   "execution_count": null,
   "metadata": {},
   "outputs": [],
   "source": [
    "seasons_overview = season_history_df_filtered.groupby(['team_id','team_name','manager_name']).agg(\n",
    "    seasons_won=('league_position', lambda x: (x == 1).sum()),\n",
    "    seasons_runner_up=('league_position', lambda x: (x == 2).sum()),\n",
    "    seasons_third=('league_position', lambda x: (x == 3).sum()),\n",
    "    seasons_played=('season_name', 'nunique'),\n",
    "    maximum_points=('total_points', 'max'),\n",
    "    minimum_rank=('rank', 'min')\n",
    ").reset_index()"
   ]
  },
  {
   "cell_type": "code",
   "execution_count": null,
   "metadata": {},
   "outputs": [],
   "source": [
    "# Join together\n",
    "seasons_overview=seasons_overview.merge(\n",
    "    right=max_points_season_df,\n",
    "    on=['team_name','manager_name'],\n",
    "    how='left'\n",
    ").merge(\n",
    "    right=min_rank_season_df,\n",
    "    on=['team_name','manager_name'],\n",
    "    how='left'\n",
    ").merge(\n",
    "    right=seasons_played,\n",
    "    on=['team_name','manager_name'],\n",
    "    how='left'\n",
    ").merge(\n",
    "    right=seasons_first,\n",
    "    on=['team_name','manager_name'],\n",
    "    how='left'\n",
    ").merge(\n",
    "    right=seasons_second,\n",
    "    on=['team_name','manager_name'],\n",
    "    how='left'\n",
    ").merge(\n",
    "    right=seasons_third,\n",
    "    on=['team_name','manager_name'],\n",
    "    how='left'\n",
    ").merge(\n",
    "    right=pd.DataFrame(manager_information),\n",
    "    left_on=['team_id'],\n",
    "    right_on=['entry'],\n",
    "    how='left'\n",
    ").sort_values([\n",
    "    'seasons_won','seasons_runner_up','seasons_third'\n",
    "],ascending=False)\n",
    "\n",
    "# Add rank\n",
    "seasons_overview['rank']=seasons_overview['seasons_won'].rank(method='min',ascending=False).astype('int')\n"
   ]
  },
  {
   "cell_type": "code",
   "execution_count": null,
   "metadata": {},
   "outputs": [],
   "source": [
    "### Summary overall\n",
    "# Most wins\n",
    "# Best rank overall (and season)\n",
    "# Best score overall (and season)\n",
    "\n",
    "\n",
    "### Summarise by grouping by team\n",
    "# Seasons played number\n",
    "# Total wins\n",
    "# Total runner up\n",
    "# Total 3rd\n",
    "# Best Points\n",
    "# Best Points Season\n",
    "# Best Rank\n",
    "# Best Rank Season\n",
    "# Nationality\n",
    "# Favourite team\n",
    "# Seasons played list \n",
    "# Years won\n",
    "\n",
    "\n",
    "### Summarise by grouping by season\n",
    "# 1st team name\n",
    "# 1st total points\n",
    "# 1st overall rank\n",
    "# 2nd\n",
    "# 3rd"
   ]
  }
 ],
 "metadata": {
  "kernelspec": {
   "display_name": ".venv",
   "language": "python",
   "name": "python3"
  },
  "language_info": {
   "codemirror_mode": {
    "name": "ipython",
    "version": 3
   },
   "file_extension": ".py",
   "mimetype": "text/x-python",
   "name": "python",
   "nbconvert_exporter": "python",
   "pygments_lexer": "ipython3",
   "version": "3.11.7"
  }
 },
 "nbformat": 4,
 "nbformat_minor": 2
}
