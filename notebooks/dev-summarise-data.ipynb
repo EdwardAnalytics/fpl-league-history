{
 "cells": [
  {
   "cell_type": "code",
   "execution_count": null,
   "metadata": {},
   "outputs": [],
   "source": [
    "import os\n",
    "os.chdir('..')"
   ]
  },
  {
   "cell_type": "code",
   "execution_count": null,
   "metadata": {},
   "outputs": [],
   "source": [
    "from src.data_prep.load_data import (\n",
    "    get_league_data,\n",
    "    get_team_history,\n",
    "    get_league_history,\n",
    "    get_current_season_information,\n",
    "    get_managers_information_league\n",
    ")\n",
    "from src.data_prep.reshape_data import (\n",
    "    summarise_season_current,\n",
    "    summarise_season_history\n",
    ")"
   ]
  },
  {
   "cell_type": "code",
   "execution_count": null,
   "metadata": {},
   "outputs": [],
   "source": [
    "league_data, team_data = get_league_data()\n",
    "manager_information = get_managers_information_league(team_data)\n",
    "season_history = get_league_history(team_data)\n",
    "final_gw_finished, current_season_year, team_ids = get_current_season_information()\n",
    "\n",
    "season_current_df = summarise_season_current(\n",
    "        league_data,\n",
    "        team_data,\n",
    "        manager_information,\n",
    "        current_season_year,\n",
    "        team_ids\n",
    "        )\n",
    "\n",
    "season_history_df = summarise_season_history(\n",
    "        season_history,\n",
    "        season_current_df,\n",
    "        final_gw_finished)\n",
    "\n"
   ]
  },
  {
   "cell_type": "code",
   "execution_count": null,
   "metadata": {},
   "outputs": [],
   "source": [
    "season_history_df[season_history_df['league_position'] == 1].groupby(['team_name','manager_name']).size().reset_index(name='Count')"
   ]
  },
  {
   "cell_type": "code",
   "execution_count": null,
   "metadata": {},
   "outputs": [],
   "source": [
    "### Summarise by grouping by team\n",
    "# Seasons played number\n",
    "# Total wins\n",
    "# Total runner up\n",
    "# Total 3rd\n",
    "# Best Points\n",
    "# Best Points Season\n",
    "# Best Rank\n",
    "# Best Rank Season\n",
    "# Nationality\n",
    "# Favourite team\n",
    "# Seasons played list \n",
    "# Years won\n",
    "\n",
    "\n",
    "# Summarise by grouping by season\n",
    "# 1st team name\n",
    "# 1st total points\n",
    "# 1st overall rank\n",
    "# 2nd\n",
    "# 3rd"
   ]
  }
 ],
 "metadata": {
  "kernelspec": {
   "display_name": ".venv",
   "language": "python",
   "name": "python3"
  },
  "language_info": {
   "codemirror_mode": {
    "name": "ipython",
    "version": 3
   },
   "file_extension": ".py",
   "mimetype": "text/x-python",
   "name": "python",
   "nbconvert_exporter": "python",
   "pygments_lexer": "ipython3",
   "version": "3.11.7"
  }
 },
 "nbformat": 4,
 "nbformat_minor": 2
}
