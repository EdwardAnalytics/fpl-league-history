{
 "cells": [
  {
   "cell_type": "code",
   "execution_count": null,
   "metadata": {},
   "outputs": [],
   "source": [
    "# Change directory to level up to import functions\n",
    "import os\n",
    "os.chdir('..')"
   ]
  },
  {
   "cell_type": "code",
   "execution_count": 1,
   "metadata": {},
   "outputs": [],
   "source": [
    "# Import functions\n",
    "from src.app_utility.create_output_tables import (\n",
    "    get_team_and_league_data,\n",
    "    get_team_and_league_data_filtered_summarised,\n",
    ")"
   ]
  },
  {
   "cell_type": "code",
   "execution_count": 2,
   "metadata": {},
   "outputs": [],
   "source": [
    "#Set variables\n",
    "season_start_year = 2001\n",
    "league_id= #Integer, this can be obtained from the League URL, e.g.: https://fantasy.premierleague.com/leagues/XXXXXX/standings/c"
   ]
  },
  {
   "cell_type": "code",
   "execution_count": null,
   "metadata": {},
   "outputs": [],
   "source": [
    "# Get data\n",
    "(\n",
    "    league_data,\n",
    "    manager_information,\n",
    "    team_ids,\n",
    "    final_gw_finished,\n",
    "    season_history,\n",
    "    season_current_df,\n",
    "    season_history_df,\n",
    "    current_gamekweek,\n",
    "    team_data,\n",
    ") = get_team_and_league_data(league_id=league_id)\n",
    "\n",
    "(\n",
    "    league_name,\n",
    "    league_summary_kpis,\n",
    "    seasons_top_three_output,\n",
    "    titles_won_summary_output,\n",
    "    season_overview_output,\n",
    "    season_current_df_output,\n",
    "    season_history_df_output,\n",
    "    all_time_table_output,\n",
    ") = get_team_and_league_data_filtered_summarised(\n",
    "    league_data=league_data,\n",
    "    manager_information=manager_information,\n",
    "    team_ids=team_ids,\n",
    "    season_current_df=season_current_df,\n",
    "    season_history_df=season_history_df,\n",
    "    season_start_year=season_start_year,\n",
    "    team_data=team_data,\n",
    ")"
   ]
  }
 ],
 "metadata": {
  "kernelspec": {
   "display_name": ".venv",
   "language": "python",
   "name": "python3"
  },
  "language_info": {
   "codemirror_mode": {
    "name": "ipython",
    "version": 3
   },
   "file_extension": ".py",
   "mimetype": "text/x-python",
   "name": "python",
   "nbconvert_exporter": "python",
   "pygments_lexer": "ipython3",
   "version": "3.11.7"
  }
 },
 "nbformat": 4,
 "nbformat_minor": 2
}
