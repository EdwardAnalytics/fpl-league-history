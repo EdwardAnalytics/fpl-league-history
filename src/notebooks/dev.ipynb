{
 "cells": [
  {
   "cell_type": "code",
   "execution_count": 117,
   "metadata": {},
   "outputs": [],
   "source": [
    "import pandas as pd\n",
    "import requests"
   ]
  },
  {
   "cell_type": "code",
   "execution_count": 191,
   "metadata": {},
   "outputs": [],
   "source": [
    "def get_league_data(league_id):\n",
    "    \"\"\"\n",
    "    \"\"\"\n",
    "    \n",
    "    url = f'https://fantasy.premierleague.com/api/leagues-classic/{league_id}/standings/'\n",
    "    league_data = requests.get(url)\n",
    "    league_data = league_data.json()\n",
    "\n",
    "    team_data = league_data['standings']['results']\n",
    "\n",
    "    return league_data, team_data"
   ]
  },
  {
   "cell_type": "code",
   "execution_count": 116,
   "metadata": {},
   "outputs": [],
   "source": [
    "def get_team_history(team_id):\n",
    "    \"\"\"\n",
    "    \"\"\"\n",
    "    \n",
    "    url = f'https://fantasy.premierleague.com/api/entry/{team_id}/history/'\n",
    "    team_data = requests.get(url)\n",
    "    team_data = team_data.json()\n",
    "\n",
    "    team_history = team_data['past']\n",
    "\n",
    "    return team_history"
   ]
  },
  {
   "cell_type": "code",
   "execution_count": 203,
   "metadata": {},
   "outputs": [],
   "source": [
    "def get_league_history(team_data):\n",
    "    \"\"\"\n",
    "    \"\"\"\n",
    "    \n",
    "    league_history = []\n",
    "    for i in team_data:\n",
    "        # Get team history for the current team ID\n",
    "        team_history = get_team_history(i['entry'])\n",
    "\n",
    "        # Add team ID to history and extend league_history\n",
    "        for item in team_history:\n",
    "            item['team_id'] = i['entry']\n",
    "            item['team_name'] = i['entry_name']\n",
    "            item['manager_name'] = i['player_name']\n",
    "        league_history += team_history\n",
    "    \n",
    "    return league_history\n"
   ]
  },
  {
   "cell_type": "code",
   "execution_count": 208,
   "metadata": {},
   "outputs": [
    {
     "ename": "TypeError",
     "evalue": "get_league_data() missing 1 required positional argument: 'league_id'",
     "output_type": "error",
     "traceback": [
      "\u001b[1;31m---------------------------------------------------------------------------\u001b[0m",
      "\u001b[1;31mTypeError\u001b[0m                                 Traceback (most recent call last)",
      "Cell \u001b[1;32mIn[208], line 1\u001b[0m\n\u001b[1;32m----> 1\u001b[0m league_data, team_data \u001b[38;5;241m=\u001b[39m \u001b[43mget_league_data\u001b[49m\u001b[43m(\u001b[49m\u001b[43m)\u001b[49m\n\u001b[0;32m      2\u001b[0m season_history \u001b[38;5;241m=\u001b[39m get_league_history(team_data)\n\u001b[0;32m      3\u001b[0m season_current_df \u001b[38;5;241m=\u001b[39m pd\u001b[38;5;241m.\u001b[39mDataFrame\u001b[38;5;241m.\u001b[39mfrom_dict(team_data)\n",
      "\u001b[1;31mTypeError\u001b[0m: get_league_data() missing 1 required positional argument: 'league_id'"
     ]
    }
   ],
   "source": [
    "league_data, team_data = get_league_data()\n",
    "season_history = get_league_history(team_data)\n",
    "season_current_df = pd.DataFrame.from_dict(team_data)\n",
    "season_history_df = pd.DataFrame.from_dict(season_history)"
   ]
  }
 ],
 "metadata": {
  "kernelspec": {
   "display_name": ".venv",
   "language": "python",
   "name": "python3"
  },
  "language_info": {
   "codemirror_mode": {
    "name": "ipython",
    "version": 3
   },
   "file_extension": ".py",
   "mimetype": "text/x-python",
   "name": "python",
   "nbconvert_exporter": "python",
   "pygments_lexer": "ipython3",
   "version": "3.11.7"
  }
 },
 "nbformat": 4,
 "nbformat_minor": 2
}
